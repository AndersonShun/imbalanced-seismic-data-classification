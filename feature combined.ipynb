{
 "cells": [
  {
   "cell_type": "markdown",
   "metadata": {},
   "source": [
    "There are 541 rows in the seismic data sets，the first row is the seismic monitor working site id, the second to the 13h row are some characters, the others are time series. First, we code those working site id as follow."
   ]
  },
  {
   "cell_type": "code",
   "execution_count": 1,
   "metadata": {
    "collapsed": true
   },
   "outputs": [],
   "source": [
    "import tensorflow as tf\n",
    "import h5py"
   ]
  },
  {
   "cell_type": "markdown",
   "metadata": {},
   "source": [
    "Load the preprocessed data."
   ]
  },
  {
   "cell_type": "code",
   "execution_count": 2,
   "metadata": {
    "collapsed": true
   },
   "outputs": [],
   "source": [
    "file = h5py.File('E:\\\\数据\\\\AAIA 16\\\\Pre_combined.h5', 'r')\n",
    "data = file['train_data'][:]\n",
    "label = file['train_label'][:]\n",
    "test_data = file['test_data'][:]\n",
    "test_label = file['test_label'][:]\n",
    "file.close()"
   ]
  },
  {
   "cell_type": "code",
   "execution_count": 3,
   "metadata": {
    "collapsed": true
   },
   "outputs": [],
   "source": [
    "sess=tf.InteractiveSession()\n",
    "embedding=tf.get_variable(\"embedding\", [data.shape[0],10])\n",
    "input_ids=tf.placeholder(dtype=tf.int32,shape=[None])\n",
    "input_embedding=tf.nn.embedding_lookup(embedding,input_ids)\n",
    "tf.global_variables_initializer().run()\n",
    "site_embedding=sess.run(input_embedding,feed_dict={input_ids:data[:,0]})"
   ]
  },
  {
   "cell_type": "code",
   "execution_count": 4,
   "metadata": {
    "collapsed": false
   },
   "outputs": [
    {
     "name": "stdout",
     "output_type": "stream",
     "text": [
      "(133151, 10)\n"
     ]
    }
   ],
   "source": [
    "print (site_embedding.shape)"
   ]
  },
  {
   "cell_type": "code",
   "execution_count": 14,
   "metadata": {
    "collapsed": true
   },
   "outputs": [],
   "source": [
    "file1 = h5py.File('site_embedding_raw.h5', 'w')\n",
    "file1.create_dataset('site_embedding_raw', data=site_embedding.reshape([-1, 10]))\n",
    "file1.close()"
   ]
  },
  {
   "cell_type": "markdown",
   "metadata": {},
   "source": [
    "After coding, we got the [133151,10] embedding working site id. Namely,133151 samples and their dimension is 10."
   ]
  },
  {
   "cell_type": "code",
   "execution_count": 5,
   "metadata": {
    "collapsed": true
   },
   "outputs": [],
   "source": [
    "import model\n",
    "import data_pre\n",
    "import numpy as np"
   ]
  },
  {
   "cell_type": "markdown",
   "metadata": {},
   "source": [
    "For the time series, we consider to use the RNN model to abstract some features."
   ]
  },
  {
   "cell_type": "code",
   "execution_count": 6,
   "metadata": {
    "collapsed": true
   },
   "outputs": [],
   "source": [
    "# hyperparameters\n",
    "batch_size = 128\n",
    "n_inputs = 22 # 28 cl\n",
    "n_steps = 24 # 28 rows -> time stamps\n",
    "n_classes = 2\n",
    "epochs = 40"
   ]
  },
  {
   "cell_type": "code",
   "execution_count": 7,
   "metadata": {
    "collapsed": true
   },
   "outputs": [],
   "source": [
    "data_raw = data_pre.DataSet(np.array(data[:, 13:]), np.array(label))\n",
    "test = data_pre.DataSet(np.array(test_data[:,13:]), np.array(test_label))"
   ]
  },
  {
   "cell_type": "markdown",
   "metadata": {},
   "source": [
    "RNN model is in the file model.py"
   ]
  },
  {
   "cell_type": "code",
   "execution_count": 8,
   "metadata": {
    "collapsed": true
   },
   "outputs": [],
   "source": [
    "xs = tf.placeholder(tf.float32, [None, n_steps, n_inputs], name=\"inputs\")\n",
    "ys = tf.placeholder(tf.float32, [None, n_classes], name=\"outputs\")\n",
    "model = model.RNN_Model(xs, ys)"
   ]
  },
  {
   "cell_type": "code",
   "execution_count": 11,
   "metadata": {
    "collapsed": false
   },
   "outputs": [
    {
     "name": "stdout",
     "output_type": "stream",
     "text": [
      "epoch: 1 loss: 1.56642 train accuracy: 0.976563\n",
      "epoch: 2 loss: 1.13435 train accuracy: 0.984375\n",
      "epoch: 3 loss: 0.855604 train accuracy: 0.984375\n",
      "epoch: 4 loss: 0.610998 train accuracy: 0.96875\n",
      "epoch: 5 loss: 0.401953 train accuracy: 0.984375\n",
      "epoch: 6 loss: 0.305275 train accuracy: 0.984375\n",
      "epoch: 7 loss: 0.270464 train accuracy: 0.945313\n",
      "epoch: 8 loss: 0.128442 train accuracy: 0.984375\n",
      "epoch: 9 loss: 0.103542 train accuracy: 0.984375\n",
      "epoch: 10 loss: 0.0993395 train accuracy: 0.984375\n",
      "epoch: 11 loss: 0.11287 train accuracy: 0.976563\n",
      "epoch: 12 loss: 0.174547 train accuracy: 0.953125\n",
      "epoch: 13 loss: 0.102404 train accuracy: 0.976563\n",
      "epoch: 14 loss: 0.120614 train accuracy: 0.976563\n",
      "epoch: 15 loss: 0.0253493 train accuracy: 1.0\n",
      "epoch: 16 loss: 0.0622635 train accuracy: 0.992188\n",
      "epoch: 17 loss: 0.0550989 train accuracy: 0.984375\n",
      "epoch: 18 loss: 0.110551 train accuracy: 0.96875\n",
      "epoch: 19 loss: 0.124411 train accuracy: 0.976563\n",
      "epoch: 20 loss: 0.0758985 train accuracy: 0.984375\n",
      "epoch: 21 loss: 0.0957287 train accuracy: 0.96875\n",
      "epoch: 22 loss: 0.128857 train accuracy: 0.96875\n",
      "epoch: 23 loss: 0.113826 train accuracy: 0.96875\n",
      "epoch: 24 loss: 0.0556538 train accuracy: 0.984375\n",
      "epoch: 25 loss: 0.0453153 train accuracy: 0.992188\n",
      "epoch: 26 loss: 0.0451215 train accuracy: 0.992188\n",
      "epoch: 27 loss: 0.0474166 train accuracy: 0.992188\n",
      "epoch: 28 loss: 0.161508 train accuracy: 0.953125\n",
      "epoch: 29 loss: 0.0188309 train accuracy: 1.0\n",
      "epoch: 30 loss: 0.102806 train accuracy: 0.976563\n",
      "epoch: 31 loss: 0.0544417 train accuracy: 0.984375\n",
      "epoch: 32 loss: 0.0787733 train accuracy: 0.976563\n",
      "epoch: 33 loss: 0.122973 train accuracy: 0.953125\n",
      "epoch: 34 loss: 0.109733 train accuracy: 0.953125\n",
      "epoch: 35 loss: 0.0441465 train accuracy: 0.984375\n",
      "epoch: 36 loss: 0.0763323 train accuracy: 0.984375\n",
      "epoch: 37 loss: 0.0967125 train accuracy: 0.976563\n",
      "epoch: 38 loss: 0.118757 train accuracy: 0.96875\n",
      "epoch: 39 loss: 0.0758179 train accuracy: 0.976563\n",
      "epoch: 40 loss: 0.106835 train accuracy: 0.960938\n"
     ]
    }
   ],
   "source": [
    "    with tf.Session() as sess:\n",
    "        writer = tf.summary.FileWriter('logs/', sess.graph)\n",
    "        init = tf.global_variables_initializer()\n",
    "        sess.run(init)\n",
    "        batch = data_raw.num_examples / batch_size\n",
    "        # learning_rate=0.0005\n",
    "        for epoch in range(epochs):\n",
    "            for i in range(int(batch)):\n",
    "                batch_x, batch_y = data_raw.next_batch(batch_size)\n",
    "                batch_x = batch_x.reshape([batch_size, n_steps, n_inputs])\n",
    "                sess.run(model.optimizer, feed_dict={xs: batch_x, ys: batch_y})\n",
    "            accu, loss = sess.run(model.accuracy, feed_dict={xs: batch_x, ys: batch_y})\n",
    "            print('epoch:', epoch + 1, 'loss:', loss, 'train accuracy:', accu)\n",
    "        outpus=sess.run(model.predict[1], feed_dict={xs: data_raw.images.reshape([-1, n_steps, n_inputs]), ys: data_raw.labels})"
   ]
  },
  {
   "cell_type": "markdown",
   "metadata": {},
   "source": [
    "save the extracted features"
   ]
  },
  {
   "cell_type": "code",
   "execution_count": 12,
   "metadata": {
    "collapsed": true
   },
   "outputs": [],
   "source": [
    "file1 = h5py.File('result_raw.h5','w')\n",
    "file1.create_dataset('result',data=outpus.reshape([-1,1200]))#data shape is [3778656,50]\n",
    "file1.close()"
   ]
  },
  {
   "cell_type": "markdown",
   "metadata": {},
   "source": [
    "Check the saved files"
   ]
  },
  {
   "cell_type": "code",
   "execution_count": 15,
   "metadata": {
    "collapsed": true
   },
   "outputs": [],
   "source": [
    "file = h5py.File('result_raw.h5','r')\n",
    "seq_raw = file['result'][:]\n",
    "file.close()\n",
    "\n",
    "file = h5py.File('site_embedding_raw.h5','r')\n",
    "work_id_raw = file['site_embedding_raw'][:]\n",
    "file.close()"
   ]
  },
  {
   "cell_type": "code",
   "execution_count": 16,
   "metadata": {
    "collapsed": true
   },
   "outputs": [],
   "source": [
    "cha_raw = data[:,1:13]"
   ]
  },
  {
   "cell_type": "markdown",
   "metadata": {},
   "source": [
    "Combine those features."
   ]
  },
  {
   "cell_type": "code",
   "execution_count": 17,
   "metadata": {
    "collapsed": true
   },
   "outputs": [],
   "source": [
    "train_raw_features=np.concatenate((work_id_raw,cha_raw,seq_raw),axis=1)"
   ]
  },
  {
   "cell_type": "markdown",
   "metadata": {},
   "source": [
    "Save them."
   ]
  },
  {
   "cell_type": "code",
   "execution_count": 19,
   "metadata": {
    "collapsed": true
   },
   "outputs": [],
   "source": [
    "file1 = h5py.File('train_features_raw.h5','w')\n",
    "file1.create_dataset('train_raw_features',data=train_raw_features)\n",
    "file1.close()\n",
    "\n",
    "file1 = h5py.File('test_features.h5','r')\n",
    "x_test=file1['test_features'][:]\n",
    "file1.close()\n",
    "\n",
    "\n",
    "file = h5py.File('features_raw_combine.h5','w')\n",
    "file.create_dataset('train_raw_features',data=train_raw_features)\n",
    "file.create_dataset('train_labels',data=label)\n",
    "file.create_dataset('test_features',data=x_test)\n",
    "file.create_dataset('test_labels',data=test_label)\n",
    "file.close()"
   ]
  }
 ],
 "metadata": {
  "anaconda-cloud": {},
  "kernelspec": {
   "display_name": "Python [default]",
   "language": "python",
   "name": "python3"
  },
  "language_info": {
   "codemirror_mode": {
    "name": "ipython",
    "version": 3
   },
   "file_extension": ".py",
   "mimetype": "text/x-python",
   "name": "python",
   "nbconvert_exporter": "python",
   "pygments_lexer": "ipython3",
   "version": "3.5.2"
  },
  "toc": {
   "nav_menu": {},
   "number_sections": true,
   "sideBar": true,
   "skip_h1_title": false,
   "toc_cell": false,
   "toc_position": {},
   "toc_section_display": "block",
   "toc_window_display": false
  }
 },
 "nbformat": 4,
 "nbformat_minor": 1
}
